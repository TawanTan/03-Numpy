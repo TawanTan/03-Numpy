{
 "cells": [
  {
   "cell_type": "code",
   "execution_count": 3,
   "metadata": {},
   "outputs": [
    {
     "name": "stdout",
     "output_type": "stream",
     "text": [
      "ป้อนตัวเลข 10-100 :  10\n",
      "ป้อนตัวเลข 10-100 :  20\n",
      "ป้อนตัวเลข 10-100 :  30\n",
      "ป้อนตัวเลข 10-100 :  40\n",
      "ป้อนตัวเลข 10-100 :  50\n",
      "ป้อนตัวเลข 10-100 :  60\n",
      "ป้อนตัวเลข 10-100 :  70\n",
      "ป้อนตัวเลข 10-100 :  80\n",
      "ป้อนตัวเลข 10-100 :  90\n",
      "[10, 20, 30, 40, 50, 60, 70, 80, 90]\n"
     ]
    }
   ],
   "source": [
    "# เขียนโปรแกรมรับค่าจากผู้ใช้ให้ป้อนเลข 9 ตัว แต่ละตัวต้องไม่ซ้ำกันและมีค่าอยู่ในช่วง 10-100 นำเลข 9 ตัวนั้นมาทำเป็น matrix \n",
    "#    3x3 และ transport และหาเลขอยู่ตำแหน่งที่ (2,2)\n",
    "import numpy as np\n",
    "\n",
    "lst = []\n",
    "while (len(lst) <= 9):\n",
    "        x = int(input('ป้อนตัวเลข 10-100 :  '))\n",
    "        if (x >=10 and x <= 100) and (x not in lst):\n",
    "            lst.append(x)\n",
    "            if len(lst) == 9: break\n",
    "        elif (x <10 or x > 100) or (x  in lst):\n",
    "            print('กรุณาป้อนใหม่')\n",
    "print(lst)\n",
    "\n"
   ]
  },
  {
   "cell_type": "code",
   "execution_count": 15,
   "metadata": {},
   "outputs": [
    {
     "name": "stdout",
     "output_type": "stream",
     "text": [
      "[[10 20 30]\n",
      " [40 50 60]\n",
      " [70 80 90]]\n",
      "[[10 40 70]\n",
      " [20 50 80]\n",
      " [30 60 90]]\n",
      "90\n"
     ]
    }
   ],
   "source": [
    "arr = np.array(lst)\n",
    "arr2 = arr.reshape(3,3)\n",
    "print(arr2)\n",
    "arr3 = arr2.T\n",
    "print(arr3)\n",
    "print(arr3[2,2])"
   ]
  }
 ],
 "metadata": {
  "kernelspec": {
   "display_name": "Python 3",
   "language": "python",
   "name": "python3"
  },
  "language_info": {
   "codemirror_mode": {
    "name": "ipython",
    "version": 3
   },
   "file_extension": ".py",
   "mimetype": "text/x-python",
   "name": "python",
   "nbconvert_exporter": "python",
   "pygments_lexer": "ipython3",
   "version": "3.7.7"
  }
 },
 "nbformat": 4,
 "nbformat_minor": 4
}
