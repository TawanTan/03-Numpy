{
 "cells": [
  {
   "cell_type": "code",
   "execution_count": 5,
   "metadata": {},
   "outputs": [
    {
     "name": "stdout",
     "output_type": "stream",
     "text": [
      "[8464.53257417 3541.02603082  210.55066738 5759.04295632  122.94783266\n",
      " 3522.96607686 5251.11091872  924.29036976 9060.20317716  617.46919839\n",
      " 4831.08105531 6566.70577126  968.0838211  3427.07700002 3346.76132712\n",
      "  339.72211935 9647.47739167  128.49912921 8888.56666431 1804.85990491]\n"
     ]
    }
   ],
   "source": [
    "#จงเขียน array ที่มีเป็นการ random ตัวเลข 20 ตัว แบบ float ค่าอยู่ในช่วง 10-99 แล้วนำแต่ละเลขยกกำลังสอง\n",
    "import numpy as np\n",
    "\n",
    "x = np.random.uniform(10,100,20)\n",
    "print(x**2)"
   ]
  }
 ],
 "metadata": {
  "kernelspec": {
   "display_name": "Python 3",
   "language": "python",
   "name": "python3"
  },
  "language_info": {
   "codemirror_mode": {
    "name": "ipython",
    "version": 3
   },
   "file_extension": ".py",
   "mimetype": "text/x-python",
   "name": "python",
   "nbconvert_exporter": "python",
   "pygments_lexer": "ipython3",
   "version": "3.7.7"
  }
 },
 "nbformat": 4,
 "nbformat_minor": 4
}
