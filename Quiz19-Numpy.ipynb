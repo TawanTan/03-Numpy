{
 "cells": [
  {
   "cell_type": "code",
   "execution_count": 1,
   "metadata": {},
   "outputs": [
    {
     "name": "stdout",
     "output_type": "stream",
     "text": [
      "[[11 95 19 95 53]\n",
      " [66 96 76 46 20]\n",
      " [53 30 14 35 34]\n",
      " [62 71 18 74 14]\n",
      " [71 38 30 25 84]]\n",
      "[95, 95, 53, 66, 96, 76, 46, 53, 62, 71, 74, 71, 84]\n"
     ]
    }
   ],
   "source": [
    "#จงเขียนโปรแกรมสุ่มเลขจำนวนเต็มในช่วง 10-100 ออกมาอยู่ใน matrix 5x5 และใช้ conditional selection เช็คว่าตัวใดบ้างมีค่า  \n",
    "      #มากกว่า 40 นำมาใส่ List ที่สร้างใหม่ และปริ้นออกมา\n",
    "import numpy as np\n",
    "\n",
    "x = np.random.randint(10,100,(5,5))\n",
    "print(x)\n",
    "lst = []\n",
    "for i in x:\n",
    "    for j in i:\n",
    "        if j > 40 :\n",
    "              lst.append(j)  \n",
    "print(lst)\n"
   ]
  }
 ],
 "metadata": {
  "kernelspec": {
   "display_name": "Python 3",
   "language": "python",
   "name": "python3"
  },
  "language_info": {
   "codemirror_mode": {
    "name": "ipython",
    "version": 3
   },
   "file_extension": ".py",
   "mimetype": "text/x-python",
   "name": "python",
   "nbconvert_exporter": "python",
   "pygments_lexer": "ipython3",
   "version": "3.7.7"
  }
 },
 "nbformat": 4,
 "nbformat_minor": 4
}
