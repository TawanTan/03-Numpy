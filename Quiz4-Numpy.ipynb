{
 "cells": [
  {
   "cell_type": "code",
   "execution_count": 19,
   "metadata": {},
   "outputs": [
    {
     "data": {
      "text/plain": [
       "[9229.341824957175,\n",
       " 145.52417615681546,\n",
       " 449.684264404855,\n",
       " 598.3724133855458,\n",
       " 4137.314987806856,\n",
       " 5124.37738197807,\n",
       " 3494.3439609284924,\n",
       " 351.01054804330283,\n",
       " 1386.5381650159889,\n",
       " 1488.0346188255987,\n",
       " 8172.203937375185,\n",
       " 7573.477668791497,\n",
       " 7945.7557853813205,\n",
       " 2549.116850606958,\n",
       " 3082.6477970397796,\n",
       " 2183.2837515507426,\n",
       " 2018.6530374597785,\n",
       " 3259.8206222693416,\n",
       " 1664.580509544122,\n",
       " 3196.608262554223]"
      ]
     },
     "execution_count": 19,
     "metadata": {},
     "output_type": "execute_result"
    }
   ],
   "source": [
    "#ทำเหมือนข้อ 3 แต่เขียนแบบ List comprehension\n",
    "import random\n",
    "lst = []\n",
    "for i in range(20):\n",
    "    x = random.uniform(10,100)\n",
    "    lst.append(x)\n",
    "[x**2 for x in lst]"
   ]
  }
 ],
 "metadata": {
  "kernelspec": {
   "display_name": "Python 3",
   "language": "python",
   "name": "python3"
  },
  "language_info": {
   "codemirror_mode": {
    "name": "ipython",
    "version": 3
   },
   "file_extension": ".py",
   "mimetype": "text/x-python",
   "name": "python",
   "nbconvert_exporter": "python",
   "pygments_lexer": "ipython3",
   "version": "3.7.7"
  }
 },
 "nbformat": 4,
 "nbformat_minor": 4
}
