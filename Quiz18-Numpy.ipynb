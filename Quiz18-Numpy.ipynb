{
 "cells": [
  {
   "cell_type": "code",
   "execution_count": 15,
   "metadata": {},
   "outputs": [
    {
     "name": "stdout",
     "output_type": "stream",
     "text": [
      "[[36 45 17 23 98]\n",
      " [33 21 11 55 20]\n",
      " [11 83 18 34 29]\n",
      " [54 18 65 25 43]\n",
      " [88 11 28 91 20]]\n",
      "98\n",
      "55\n",
      "83\n",
      "54\n",
      "65\n",
      "88\n",
      "91\n"
     ]
    }
   ],
   "source": [
    "#18. จงเขียนโปรแกรมสุ่มเลขจำนวนเต็มในช่วง 10-100 ออกมาอยู่ใน matrix 5x5 และใช้ If-else เช็คทีละตัวว่าตัวใดบ้างที่มีค่ามากกว่า\n",
    " #     50 และปริ้นออกมา\n",
    "import numpy as np\n",
    "\n",
    "x = np.random.randint(10,100,(5,5))\n",
    "print(x)\n",
    "for i in x:\n",
    "    for j in i:\n",
    "        if j > 50 :\n",
    "            print(j)"
   ]
  }
 ],
 "metadata": {
  "kernelspec": {
   "display_name": "Python 3",
   "language": "python",
   "name": "python3"
  },
  "language_info": {
   "codemirror_mode": {
    "name": "ipython",
    "version": 3
   },
   "file_extension": ".py",
   "mimetype": "text/x-python",
   "name": "python",
   "nbconvert_exporter": "python",
   "pygments_lexer": "ipython3",
   "version": "3.7.7"
  }
 },
 "nbformat": 4,
 "nbformat_minor": 4
}
